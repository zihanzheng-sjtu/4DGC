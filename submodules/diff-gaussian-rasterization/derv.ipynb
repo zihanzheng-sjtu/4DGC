{
 "cells": [
  {
   "cell_type": "code",
   "execution_count": 2,
   "metadata": {},
   "outputs": [],
   "source": [
    "import torch"
   ]
  },
  {
   "cell_type": "code",
   "execution_count": 8,
   "metadata": {},
   "outputs": [],
   "source": [
    "p=torch.tensor([3.,2.,1.,1.])\n",
    "M1=torch.rand(4,4)\n",
    "M2=torch.rand(4,3)"
   ]
  },
  {
   "cell_type": "code",
   "execution_count": 9,
   "metadata": {},
   "outputs": [],
   "source": [
    "p_hom=M1@p"
   ]
  },
  {
   "cell_type": "code",
   "execution_count": 10,
   "metadata": {},
   "outputs": [
    {
     "data": {
      "text/plain": [
       "tensor([2.1129, 2.0309, 4.4245, 2.4417])"
      ]
     },
     "execution_count": 10,
     "metadata": {},
     "output_type": "execute_result"
    }
   ],
   "source": [
    "p_hom"
   ]
  },
  {
   "cell_type": "code",
   "execution_count": 41,
   "metadata": {},
   "outputs": [
    {
     "name": "stdout",
     "output_type": "stream",
     "text": [
      "functionValue =  [ 4.21774806 -4.80503581  3.77628938]\n",
      "gradient =  [[-5.97204411  3.12015092  3.63831297 -3.14415717]\n",
      " [ 6.95250322 -4.46369239 -5.27597874  4.27274957]\n",
      " [-4.21981787  3.64211916  5.59819126 -2.97335674]]\n",
      "numerical gradient checking ...\n",
      "approximation error 1.5561059746262898e-09\n"
     ]
    }
   ],
   "source": [
    "\"\"\"\n",
    "Sample code automatically generated on 2023-08-04 11:37:44\n",
    "\n",
    "by www.matrixcalculus.org\n",
    "\n",
    "from input\n",
    "\n",
    "d/dp M2*(1/sum(m.*p))*M1*p = 1/sum(m.*p)*M2*M1-1/sum(m.*p).^2*M2*M1*p*m'\n",
    "\n",
    "where\n",
    "\n",
    "M1 is a matrix\n",
    "M2 is a matrix\n",
    "m is a vector\n",
    "p is a vector\n",
    "\n",
    "The generated code is provided \"as is\" without warranty of any kind.\n",
    "\"\"\"\n",
    "\n",
    "from __future__ import division, print_function, absolute_import\n",
    "\n",
    "import numpy as np\n",
    "\n",
    "def fAndG(M1, M2, m, p):\n",
    "    assert isinstance(M1, np.ndarray)\n",
    "    dim = M1.shape\n",
    "    assert len(dim) == 2\n",
    "    M1_rows = dim[0]\n",
    "    M1_cols = dim[1]\n",
    "    assert isinstance(M2, np.ndarray)\n",
    "    dim = M2.shape\n",
    "    assert len(dim) == 2\n",
    "    M2_rows = dim[0]\n",
    "    M2_cols = dim[1]\n",
    "    assert isinstance(m, np.ndarray)\n",
    "    dim = m.shape\n",
    "    assert len(dim) == 1\n",
    "    m_rows = dim[0]\n",
    "    assert isinstance(p, np.ndarray)\n",
    "    dim = p.shape\n",
    "    assert len(dim) == 1\n",
    "    p_rows = dim[0]\n",
    "    assert M1_cols == M1_rows == M2_cols == p_rows == m_rows\n",
    "\n",
    "    t_0 = np.dot(m,p)\n",
    "    t_1 = (1 / t_0)\n",
    "    t_2 = M1.dot(p)\n",
    "    t_3 = M2.dot(t_2)\n",
    "    functionValue = (t_1 * t_3)\n",
    "    gradient1 = ((t_1 * (M2).dot(M1)) )\n",
    "    gradient2 = - ((1 / (t_0 ** 2)) * np.outer(t_3, m))\n",
    "    gradient= gradient1+gradient2\n",
    "    return functionValue, gradient\n",
    "\n",
    "def checkGradient(M1, M2, m, p):\n",
    "    # numerical gradient checking\n",
    "    # f(x + t * delta) - f(x - t * delta) / (2t)\n",
    "    # should be roughly equal to inner product <g, delta>\n",
    "    t = 1E-6\n",
    "    delta = np.random.randn(4)\n",
    "    f1, _ = fAndG(M1, M2, m, p + t * delta)\n",
    "    f2, _ = fAndG(M1, M2, m, p - t * delta)\n",
    "    f, g = fAndG(M1, M2, m, p)\n",
    "    print('approximation error',\n",
    "          np.linalg.norm((f1 - f2) / (2*t) - np.tensordot(g, delta, axes=1)))\n",
    "\n",
    "def generateRandomData():\n",
    "    M1 = np.random.randn(4, 4)\n",
    "    M2 = np.random.randn(3, 4)\n",
    "    m = M1[3]\n",
    "    p = np.random.randn(4)\n",
    "    p[3]=1\n",
    "    return M1, M2, m, p\n",
    "\n",
    "if __name__ == '__main__':\n",
    "    M1, M2, m, p = generateRandomData()\n",
    "    functionValue, gradient = fAndG(M1, M2, m, p)\n",
    "    print('functionValue = ', functionValue)\n",
    "    print('gradient = ', gradient)\n",
    "\n",
    "    print('numerical gradient checking ...')\n",
    "    checkGradient(M1, M2, m, p)\n"
   ]
  },
  {
   "cell_type": "code",
   "execution_count": 15,
   "metadata": {},
   "outputs": [],
   "source": [
    "M1 = np.random.randn(4, 4)"
   ]
  },
  {
   "cell_type": "code",
   "execution_count": 16,
   "metadata": {},
   "outputs": [
    {
     "data": {
      "text/plain": [
       "array([-0.72067952, -0.95765738, -0.19412279,  0.402995  ])"
      ]
     },
     "execution_count": 16,
     "metadata": {},
     "output_type": "execute_result"
    }
   ],
   "source": [
    "M1[3]"
   ]
  }
 ],
 "metadata": {
  "kernelspec": {
   "display_name": "torch2.0",
   "language": "python",
   "name": "python3"
  },
  "language_info": {
   "codemirror_mode": {
    "name": "ipython",
    "version": 3
   },
   "file_extension": ".py",
   "mimetype": "text/x-python",
   "name": "python",
   "nbconvert_exporter": "python",
   "pygments_lexer": "ipython3",
   "version": "3.11.4"
  },
  "orig_nbformat": 4
 },
 "nbformat": 4,
 "nbformat_minor": 2
}
